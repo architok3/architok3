{
  "cells": [
    {
      "cell_type": "markdown",
      "metadata": {
        "id": "UA_uMNXNPavg"
      },
      "source": [
        "(lecture02:homework02)=\n",
        "# Homework 2\n",
        "\n",
        "+ Type your name and email in the \"Student details\" section below.\n",
        "+ Develop the code and generate the figures you need to solve the problems using this notebook.\n",
        "+ For the answers that require a mathematical proof or derivation you can either:\n",
        "    \n",
        "    - Type the answer using the built-in latex capabilities. In this case, simply export the notebook as a pdf and upload it on gradescope; or\n",
        "    - You can print the notebook (after you are done with all the code), write your answers by hand, scan, turn your response to a single pdf, and upload on gradescope.\n",
        "\n",
        "+ The total homework points are 100. Please note that the problems are not weighed equally.\n",
        "\n",
        "```{note}\n",
        "+ This is due before the beginning of the next lecture.\n",
        "+ Please match all the pages corresponding to each of the questions when you submit on gradescope.\n",
        "```"
      ]
    },
    {
      "cell_type": "markdown",
      "metadata": {
        "id": "LgPp1iYzPavi"
      },
      "source": [
        "## Student details\n",
        "\n",
        "+ **First Name:** Archit\n",
        "+ **Last Name:** Banerjee\n",
        "+ **Email:** banerj94"
      ]
    },
    {
      "cell_type": "markdown",
      "metadata": {
        "id": "gpttS052Pavi"
      },
      "source": [
        "## Problem 1 - Lists\n",
        "\n",
        "Consider the following list:"
      ]
    },
    {
      "cell_type": "code",
      "execution_count": 2,
      "metadata": {
        "id": "fk2jAGwWPavi"
      },
      "outputs": [],
      "source": [
        "data = [1, 4, 3, 10, 4, 3, 4, 4]"
      ]
    },
    {
      "cell_type": "markdown",
      "metadata": {
        "id": "1JaLiJ95Pavi"
      },
      "source": [
        "Add the element 6 at the end of `data`:"
      ]
    },
    {
      "cell_type": "code",
      "execution_count": 3,
      "metadata": {
        "colab": {
          "base_uri": "https://localhost:8080/"
        },
        "id": "ef6AiopjPavi",
        "outputId": "f8d69bef-b435-44e7-99d7-c4fb7483bad8"
      },
      "outputs": [
        {
          "output_type": "stream",
          "name": "stdout",
          "text": [
            "[1, 4, 3, 10, 4, 3, 4, 4, 6]\n"
          ]
        }
      ],
      "source": [
        "data.append(6)\n",
        "print(data)"
      ]
    },
    {
      "cell_type": "markdown",
      "metadata": {
        "id": "meaAt0-rPavj"
      },
      "source": [
        "Add the list [0, -1, 3] at the begining of `data`"
      ]
    },
    {
      "cell_type": "code",
      "execution_count": 4,
      "metadata": {
        "colab": {
          "base_uri": "https://localhost:8080/"
        },
        "id": "VPU7TummPavj",
        "outputId": "c056b424-fec2-4305-8767-cbe0c5497ec8"
      },
      "outputs": [
        {
          "output_type": "stream",
          "name": "stdout",
          "text": [
            "[0, -1, 3, 1, 4, 3, 10, 4, 3, 4, 4, 6]\n"
          ]
        }
      ],
      "source": [
        "# your code here\n",
        "data = [0, -1, 3] + data\n",
        "print(data)"
      ]
    },
    {
      "cell_type": "markdown",
      "metadata": {
        "id": "IryAnX1IPavj"
      },
      "source": [
        "How many elements are in the `data`?"
      ]
    },
    {
      "cell_type": "code",
      "execution_count": 5,
      "metadata": {
        "colab": {
          "base_uri": "https://localhost:8080/"
        },
        "id": "lnfGbhDpPavj",
        "outputId": "68e9ee97-24a2-448a-fd7c-ec51b0b817f0"
      },
      "outputs": [
        {
          "output_type": "execute_result",
          "data": {
            "text/plain": [
              "12"
            ]
          },
          "metadata": {},
          "execution_count": 5
        }
      ],
      "source": [
        "# your code here\n",
        "len(data)"
      ]
    },
    {
      "cell_type": "markdown",
      "metadata": {
        "id": "izWwOiz0Pavj"
      },
      "source": [
        "Extract all `data` elements from the second to the second to last (inclusive)."
      ]
    },
    {
      "cell_type": "code",
      "execution_count": 6,
      "metadata": {
        "colab": {
          "base_uri": "https://localhost:8080/"
        },
        "id": "PLqJaG-mPavj",
        "outputId": "c2002c38-8d13-4e4a-bded-bf261010ee01"
      },
      "outputs": [
        {
          "output_type": "execute_result",
          "data": {
            "text/plain": [
              "[-1, 3, 1, 4, 3, 10, 4, 3, 4, 4]"
            ]
          },
          "metadata": {},
          "execution_count": 6
        }
      ],
      "source": [
        "# your code here\n",
        "data[1:-1]"
      ]
    },
    {
      "cell_type": "markdown",
      "metadata": {
        "id": "730j1EqkPavj"
      },
      "source": [
        "Extract all `data` elements from the second to the second to last (inclusive) skipping every other element."
      ]
    },
    {
      "cell_type": "code",
      "execution_count": 7,
      "metadata": {
        "colab": {
          "base_uri": "https://localhost:8080/"
        },
        "id": "RJyB0qzyPavj",
        "outputId": "404ed1f0-4b11-4869-cbde-cf92bade7075"
      },
      "outputs": [
        {
          "output_type": "execute_result",
          "data": {
            "text/plain": [
              "[-1, 1, 3, 4, 4]"
            ]
          },
          "metadata": {},
          "execution_count": 7
        }
      ],
      "source": [
        "# your code here\n",
        "data[1:-1:2]"
      ]
    },
    {
      "cell_type": "markdown",
      "metadata": {
        "id": "-UJSL83YPavj"
      },
      "source": [
        "Sort the list."
      ]
    },
    {
      "cell_type": "code",
      "execution_count": 9,
      "metadata": {
        "colab": {
          "base_uri": "https://localhost:8080/"
        },
        "id": "iOJ7tDR9Pavj",
        "outputId": "3a038acb-7054-499f-aaa2-77be888d6928"
      },
      "outputs": [
        {
          "output_type": "stream",
          "name": "stdout",
          "text": [
            "[-1, 0, 1, 3, 3, 3, 4, 4, 4, 4, 6, 10]\n"
          ]
        }
      ],
      "source": [
        "# your code here\n",
        "data.sort()\n",
        "print(data)"
      ]
    },
    {
      "cell_type": "markdown",
      "metadata": {
        "id": "tAxhdWbaPavj"
      },
      "source": [
        "Find the minimum of the list."
      ]
    },
    {
      "cell_type": "code",
      "execution_count": 10,
      "metadata": {
        "colab": {
          "base_uri": "https://localhost:8080/"
        },
        "id": "IxoI3tMbPavk",
        "outputId": "494eab8b-13b9-4f5e-b76a-85a3cb1e091b"
      },
      "outputs": [
        {
          "output_type": "execute_result",
          "data": {
            "text/plain": [
              "-1"
            ]
          },
          "metadata": {},
          "execution_count": 10
        }
      ],
      "source": [
        "# your code here\n",
        "min(data)"
      ]
    },
    {
      "cell_type": "markdown",
      "metadata": {
        "id": "_VYC-nzcPavk"
      },
      "source": [
        "Find the average of the elements in the list."
      ]
    },
    {
      "cell_type": "code",
      "execution_count": 11,
      "metadata": {
        "colab": {
          "base_uri": "https://localhost:8080/"
        },
        "id": "Z3RDYJ5VPavk",
        "outputId": "0fad471e-d5ef-4930-9537-13aaab49850a"
      },
      "outputs": [
        {
          "output_type": "execute_result",
          "data": {
            "text/plain": [
              "3.4166666666666665"
            ]
          },
          "metadata": {},
          "execution_count": 11
        }
      ],
      "source": [
        "# your code here\n",
        "sum(data)/len(data)"
      ]
    },
    {
      "cell_type": "markdown",
      "metadata": {
        "id": "vSi3UJlzPavk"
      },
      "source": [
        "## Problem 2 - Numerical Python\n",
        "\n",
        "Let's make a random array:"
      ]
    },
    {
      "cell_type": "code",
      "execution_count": 12,
      "metadata": {
        "colab": {
          "base_uri": "https://localhost:8080/"
        },
        "id": "l0UXePiyPavk",
        "outputId": "30749fb4-f322-4744-fb1c-1b2b831c1fdd"
      },
      "outputs": [
        {
          "output_type": "execute_result",
          "data": {
            "text/plain": [
              "array([-2.04707659e-01,  4.78943338e-01, -5.19438715e-01, -5.55730304e-01,\n",
              "        1.96578057e+00,  1.39340583e+00,  9.29078767e-02,  2.81746153e-01,\n",
              "        7.69022568e-01,  1.24643474e+00,  1.00718936e+00, -1.29622111e+00,\n",
              "        2.74991633e-01,  2.28912879e-01,  1.35291684e+00,  8.86429341e-01,\n",
              "       -2.00163731e+00, -3.71842537e-01,  1.66902531e+00, -4.38569736e-01,\n",
              "       -5.39741446e-01,  4.76985010e-01,  3.24894392e+00, -1.02122752e+00,\n",
              "       -5.77087303e-01,  1.24121276e-01,  3.02613562e-01,  5.23772068e-01,\n",
              "        9.40277775e-04,  1.34380979e+00, -7.13543985e-01, -8.31153539e-01,\n",
              "       -2.37023165e+00, -1.86076079e+00, -8.60757398e-01,  5.60145293e-01,\n",
              "       -1.26593449e+00,  1.19827125e-01, -1.06351245e+00,  3.32882716e-01,\n",
              "       -2.35941881e+00, -1.99542955e-01, -1.54199553e+00, -9.70735912e-01,\n",
              "       -1.30703025e+00,  2.86349747e-01,  3.77984111e-01, -7.53886535e-01,\n",
              "        3.31285650e-01,  1.34974221e+00,  6.98766888e-02,  2.46674110e-01,\n",
              "       -1.18616011e-02,  1.00481159e+00,  1.32719461e+00, -9.19261558e-01,\n",
              "       -1.54910644e+00,  2.21845987e-02,  7.58363145e-01, -6.60524328e-01,\n",
              "        8.62580083e-01, -1.00319021e-02,  5.00093559e-02,  6.70215594e-01,\n",
              "        8.52965032e-01, -9.55868852e-01, -2.34933207e-02, -2.30423388e+00,\n",
              "       -6.52468841e-01, -1.21830198e+00, -1.33260971e+00,  1.07462269e+00,\n",
              "        7.23641505e-01,  6.90001853e-01,  1.00154344e+00, -5.03087391e-01,\n",
              "       -6.22274225e-01, -9.21168608e-01, -7.26213493e-01,  2.22895546e-01,\n",
              "        5.13161009e-02, -1.15771947e+00,  8.16706936e-01,  4.33609606e-01,\n",
              "        1.01073695e+00,  1.82487521e+00, -9.97518248e-01,  8.50591099e-01,\n",
              "       -1.31577601e-01,  9.12414152e-01,  1.88210680e-01,  2.16946144e+00,\n",
              "       -1.14928205e-01,  2.00369736e+00,  2.96101523e-02,  7.95253156e-01,\n",
              "        1.18109754e-01, -7.48531548e-01,  5.84969738e-01,  1.52676573e-01])"
            ]
          },
          "metadata": {},
          "execution_count": 12
        }
      ],
      "source": [
        "import numpy as np\n",
        "np.random.seed(12345) # We need this so that we get the same numbers\n",
        "                      # every time we runt the following code\n",
        "x = np.random.randn(100)\n",
        "x"
      ]
    },
    {
      "cell_type": "markdown",
      "metadata": {
        "id": "xbmrJA2APavk"
      },
      "source": [
        "Find the minimum of ``x``."
      ]
    },
    {
      "cell_type": "code",
      "execution_count": 13,
      "metadata": {
        "colab": {
          "base_uri": "https://localhost:8080/"
        },
        "id": "JOBqrpR4Pavk",
        "outputId": "8d3cb5d4-17cd-4446-87af-1fc6187a8828"
      },
      "outputs": [
        {
          "output_type": "execute_result",
          "data": {
            "text/plain": [
              "np.float64(-2.3702316539567447)"
            ]
          },
          "metadata": {},
          "execution_count": 13
        }
      ],
      "source": [
        "# your code here\n",
        "min(x)"
      ]
    },
    {
      "cell_type": "markdown",
      "metadata": {
        "id": "CJ_yHIqDPavk"
      },
      "source": [
        "Find the maximum of ``x``."
      ]
    },
    {
      "cell_type": "code",
      "source": [],
      "metadata": {
        "colab": {
          "base_uri": "https://localhost:8080/"
        },
        "id": "icDgqJT0P_AH",
        "outputId": "83693218-3cd3-4412-bb1c-5c32f8a70125"
      },
      "execution_count": 14,
      "outputs": [
        {
          "output_type": "execute_result",
          "data": {
            "text/plain": [
              "np.float64(3.248943919430755)"
            ]
          },
          "metadata": {},
          "execution_count": 14
        }
      ]
    },
    {
      "cell_type": "markdown",
      "metadata": {
        "id": "b9z5bQfEPavk"
      },
      "source": [
        "Find the maximum of ``x``."
      ]
    },
    {
      "cell_type": "code",
      "execution_count": 15,
      "metadata": {
        "colab": {
          "base_uri": "https://localhost:8080/"
        },
        "id": "HWwfr9_APavk",
        "outputId": "8d5a1bdc-e370-4d0f-d913-cd577aebd44d"
      },
      "outputs": [
        {
          "output_type": "execute_result",
          "data": {
            "text/plain": [
              "np.float64(3.248943919430755)"
            ]
          },
          "metadata": {},
          "execution_count": 15
        }
      ],
      "source": [
        "# your code here\n",
        "np.max(x)"
      ]
    },
    {
      "cell_type": "markdown",
      "metadata": {
        "id": "CSnjRdWpPavk"
      },
      "source": [
        "Use ``x.shape`` to get the number of elements of ``x`` as an integer."
      ]
    },
    {
      "cell_type": "code",
      "execution_count": 16,
      "metadata": {
        "colab": {
          "base_uri": "https://localhost:8080/"
        },
        "id": "uPMFC4kPPavk",
        "outputId": "1ca62318-341b-4594-9b5c-2038b2ff3111"
      },
      "outputs": [
        {
          "output_type": "execute_result",
          "data": {
            "text/plain": [
              "100"
            ]
          },
          "metadata": {},
          "execution_count": 16
        }
      ],
      "source": [
        "# your code here\n",
        "x.shape[0]"
      ]
    },
    {
      "cell_type": "markdown",
      "metadata": {
        "id": "81AysvejPavk"
      },
      "source": [
        "Find the sum of all the elements of ``x`` divided by the number of elements of ``x``. This is the average."
      ]
    },
    {
      "cell_type": "code",
      "execution_count": 17,
      "metadata": {
        "colab": {
          "base_uri": "https://localhost:8080/"
        },
        "id": "KxZO1pJIPavk",
        "outputId": "454d7e90-e13a-4004-e1d7-b93f3cb54853"
      },
      "outputs": [
        {
          "output_type": "execute_result",
          "data": {
            "text/plain": [
              "np.float64(0.033614388208863935)"
            ]
          },
          "metadata": {},
          "execution_count": 17
        }
      ],
      "source": [
        "# your code here\n",
        "np.sum(x)/x.shape[0]"
      ]
    },
    {
      "cell_type": "markdown",
      "metadata": {
        "id": "AJ-EpLMEPavk"
      },
      "source": [
        "Compare the average you found above with the result of ``x.mean()``. Are they the same?"
      ]
    },
    {
      "cell_type": "code",
      "execution_count": 18,
      "metadata": {
        "colab": {
          "base_uri": "https://localhost:8080/"
        },
        "id": "8OgBLkplPavk",
        "outputId": "d9696da1-922b-40d3-ea8b-2fdadc563e8f"
      },
      "outputs": [
        {
          "output_type": "execute_result",
          "data": {
            "text/plain": [
              "np.float64(0.033614388208863935)"
            ]
          },
          "metadata": {},
          "execution_count": 18
        }
      ],
      "source": [
        "# your code here\n",
        "x.mean()"
      ]
    },
    {
      "cell_type": "markdown",
      "metadata": {
        "id": "cfUQLY7pPavk"
      },
      "source": [
        "Square the elements of ``x`` and store them in a new array called ``x2``."
      ]
    },
    {
      "cell_type": "code",
      "execution_count": 19,
      "metadata": {
        "id": "TkB5iL2hPavk"
      },
      "outputs": [],
      "source": [
        "# your code here\n",
        "x2 = x**2"
      ]
    },
    {
      "cell_type": "markdown",
      "metadata": {
        "id": "crnc1WqdPavk"
      },
      "source": [
        "Find the average of ``x2`` and subtract from it the square of average of ``x``."
      ]
    },
    {
      "cell_type": "code",
      "execution_count": 20,
      "metadata": {
        "colab": {
          "base_uri": "https://localhost:8080/"
        },
        "id": "dxqy1yf_Pavk",
        "outputId": "fe292726-49d5-417d-b848-4df5fa013254"
      },
      "outputs": [
        {
          "output_type": "execute_result",
          "data": {
            "text/plain": [
              "np.float64(1.0714002155166888)"
            ]
          },
          "metadata": {},
          "execution_count": 20
        }
      ],
      "source": [
        "# your code here\n",
        "np.mean(x2) - np.mean(x)**2"
      ]
    },
    {
      "cell_type": "markdown",
      "metadata": {
        "id": "FVFyoJJ9Pavk"
      },
      "source": [
        "Compare the result you found on the cell above with ``x.var()``. Are they the same? (Remark: You just calculated the empirical variance of the \"data\" ``x`` in two different ways!)"
      ]
    },
    {
      "cell_type": "code",
      "execution_count": null,
      "metadata": {
        "id": "IaBNQwh4Pavk"
      },
      "outputs": [],
      "source": [
        "# your code here\n",
        "Yes they are."
      ]
    }
  ],
  "metadata": {
    "kernelspec": {
      "display_name": "Python 3",
      "language": "python",
      "name": "python3"
    },
    "language_info": {
      "codemirror_mode": {
        "name": "ipython",
        "version": 3
      },
      "file_extension": ".py",
      "mimetype": "text/x-python",
      "name": "python",
      "nbconvert_exporter": "python",
      "pygments_lexer": "ipython3",
      "version": "3.8.8"
    },
    "colab": {
      "provenance": []
    }
  },
  "nbformat": 4,
  "nbformat_minor": 0
}