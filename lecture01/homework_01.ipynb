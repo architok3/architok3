{
  "cells": [
    {
      "cell_type": "markdown",
      "metadata": {
        "id": "Kp0ybWJxGNi2"
      },
      "source": [
        "(lecture01:homework1)=\n",
        "# Homework 1\n",
        "\n",
        "+ Type your name and email in the \"Student details\" section below.\n",
        "+ Develop the code and generate the figures you need to solve the problems using this notebook.\n",
        "+ For the answers that require a mathematical proof or derivation you can either:\n",
        "    \n",
        "    - Type the answer using the built-in latex capabilities. In this case, simply export the notebook as a pdf and upload it on gradescope; or\n",
        "    - You can print the notebook (after you are done with all the code), write your answers by hand, scan, turn your response to a single pdf, and upload on gradescope.\n",
        "\n",
        "+ The total homework points are 100. Please note that the problems are not weighed equally.\n",
        "\n",
        "```{note}\n",
        "+ This is due before the beginning of the next lecture.\n",
        "+ Please match all the pages corresponding to each of the questions when you submit on gradescope.\n",
        "```"
      ]
    },
    {
      "cell_type": "markdown",
      "metadata": {
        "id": "zlrctLPSGNi4"
      },
      "source": [
        "## Student details\n",
        "\n",
        "+ **First Name:** Archit\n",
        "+ **Last Name:** Banerjee\n",
        "+ **Email:** banerj94@purdue.edu\n"
      ]
    },
    {
      "cell_type": "markdown",
      "metadata": {
        "id": "BjwOpvmfGNi4"
      },
      "source": [
        "## Problem 1 - Python as a calculator\n",
        "\n",
        "Use Python to evaluate the following expression:\n",
        "$$\n",
        "\\frac{\\sin(\\pi/3)e^{-2}}{23^2}.\n",
        "$$"
      ]
    },
    {
      "cell_type": "code",
      "execution_count": 3,
      "metadata": {
        "id": "d1XutpSeGNi4",
        "outputId": "32176e5c-a10d-44b3-9e3d-20e1bfd2c2df",
        "colab": {
          "base_uri": "https://localhost:8080/"
        }
      },
      "outputs": [
        {
          "output_type": "execute_result",
          "data": {
            "text/plain": [
              "0.00022155726523869355"
            ]
          },
          "metadata": {},
          "execution_count": 3
        }
      ],
      "source": [
        "# Your code here\n",
        "import math\n",
        "\n",
        "(math.sin(math.pi / 3) * math.e ** (-2)) / (23 ** 2)"
      ]
    },
    {
      "cell_type": "markdown",
      "metadata": {
        "id": "MpPrinBIGNi4"
      },
      "source": [
        "## Problem 2 - Python types\n",
        "\n",
        "Find the type of the following Python variables.\n",
        "You may use Python's capabilities to find the type. You don't have to guess it."
      ]
    },
    {
      "cell_type": "code",
      "execution_count": 13,
      "metadata": {
        "id": "KOtbHtxeGNi4",
        "outputId": "2af1142c-404a-4fd8-dc5f-31eed52fc5f4",
        "colab": {
          "base_uri": "https://localhost:8080/"
        }
      },
      "outputs": [
        {
          "output_type": "execute_result",
          "data": {
            "text/plain": [
              "int"
            ]
          },
          "metadata": {},
          "execution_count": 13
        }
      ],
      "source": [
        "x = 4\n",
        "type(x)"
      ]
    },
    {
      "cell_type": "code",
      "execution_count": 14,
      "metadata": {
        "id": "vJdmHVEgGNi4",
        "outputId": "1b49374b-f1b5-41f9-82e7-cca983dfd058",
        "colab": {
          "base_uri": "https://localhost:8080/"
        }
      },
      "outputs": [
        {
          "output_type": "execute_result",
          "data": {
            "text/plain": [
              "float"
            ]
          },
          "metadata": {},
          "execution_count": 14
        }
      ],
      "source": [
        "y = 23.5\n",
        "type(y)"
      ]
    },
    {
      "cell_type": "code",
      "execution_count": 15,
      "metadata": {
        "id": "vGbK2IY2GNi5",
        "outputId": "aba3e450-4457-4568-d5b9-87de1de495ac",
        "colab": {
          "base_uri": "https://localhost:8080/"
        }
      },
      "outputs": [
        {
          "output_type": "execute_result",
          "data": {
            "text/plain": [
              "float"
            ]
          },
          "metadata": {},
          "execution_count": 15
        }
      ],
      "source": [
        "z = 4 / 3.1\n",
        "type(z)"
      ]
    },
    {
      "cell_type": "code",
      "execution_count": 16,
      "metadata": {
        "id": "PjoLSmZKGNi5",
        "outputId": "b0c50430-f6f2-4066-ce0a-62a193394cfc",
        "colab": {
          "base_uri": "https://localhost:8080/"
        }
      },
      "outputs": [
        {
          "output_type": "execute_result",
          "data": {
            "text/plain": [
              "tuple"
            ]
          },
          "metadata": {},
          "execution_count": 16
        }
      ],
      "source": [
        "a = (1, 2, 4)\n",
        "type(a)"
      ]
    },
    {
      "cell_type": "code",
      "execution_count": 17,
      "metadata": {
        "id": "xmq-nKnzGNi5",
        "outputId": "b2eddc86-6105-4270-8c02-7e3f51986514",
        "colab": {
          "base_uri": "https://localhost:8080/"
        }
      },
      "outputs": [
        {
          "output_type": "execute_result",
          "data": {
            "text/plain": [
              "list"
            ]
          },
          "metadata": {},
          "execution_count": 17
        }
      ],
      "source": [
        "b = [3, 4, 6]\n",
        "type(b)"
      ]
    },
    {
      "cell_type": "code",
      "execution_count": 18,
      "metadata": {
        "id": "zPqUj2ymGNi5",
        "outputId": "4c8c891b-b17b-4e0f-9812-cb7736d4544a",
        "colab": {
          "base_uri": "https://localhost:8080/"
        }
      },
      "outputs": [
        {
          "output_type": "execute_result",
          "data": {
            "text/plain": [
              "bool"
            ]
          },
          "metadata": {},
          "execution_count": 18
        }
      ],
      "source": [
        "c = x > 2\n",
        "type(c)"
      ]
    },
    {
      "cell_type": "code",
      "execution_count": 19,
      "metadata": {
        "id": "IPne70XVGNi5",
        "outputId": "33f82c7c-a9d7-4766-8485-2c1110ddf559",
        "colab": {
          "base_uri": "https://localhost:8080/"
        }
      },
      "outputs": [
        {
          "output_type": "execute_result",
          "data": {
            "text/plain": [
              "str"
            ]
          },
          "metadata": {},
          "execution_count": 19
        }
      ],
      "source": [
        "d = 'Hello there!'\n",
        "type(d)"
      ]
    },
    {
      "cell_type": "code",
      "execution_count": 21,
      "metadata": {
        "id": "Ul3VH2BOGNi5",
        "outputId": "07e63be6-3e3d-4b79-bea6-b6090832c82b",
        "colab": {
          "base_uri": "https://localhost:8080/"
        }
      },
      "outputs": [
        {
          "output_type": "execute_result",
          "data": {
            "text/plain": [
              "dict"
            ]
          },
          "metadata": {},
          "execution_count": 21
        }
      ],
      "source": [
        "e = {'Name': 'Ilias Bilionis',\n",
        "     'Phone number': 2106012119,\n",
        "     'Zip code': 47906}\n",
        "type(e)"
      ]
    },
    {
      "cell_type": "code",
      "execution_count": 22,
      "metadata": {
        "id": "eYuPz3t5GNi5",
        "outputId": "46df4949-4653-437f-da60-d5fb9ae3f467",
        "colab": {
          "base_uri": "https://localhost:8080/"
        }
      },
      "outputs": [
        {
          "output_type": "execute_result",
          "data": {
            "text/plain": [
              "numpy.ndarray"
            ]
          },
          "metadata": {},
          "execution_count": 22
        }
      ],
      "source": [
        "import numpy as np\n",
        "f = np.zeros((10, 4))\n",
        "type(f)"
      ]
    }
  ],
  "metadata": {
    "kernelspec": {
      "display_name": "Python 3",
      "language": "python",
      "name": "python3"
    },
    "language_info": {
      "codemirror_mode": {
        "name": "ipython",
        "version": 3
      },
      "file_extension": ".py",
      "mimetype": "text/x-python",
      "name": "python",
      "nbconvert_exporter": "python",
      "pygments_lexer": "ipython3",
      "version": "3.8.8"
    },
    "colab": {
      "provenance": []
    }
  },
  "nbformat": 4,
  "nbformat_minor": 0
}